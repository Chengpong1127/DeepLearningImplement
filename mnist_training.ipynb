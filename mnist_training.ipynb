{
 "cells": [
  {
   "cell_type": "code",
   "execution_count": 1,
   "metadata": {},
   "outputs": [],
   "source": [
    "\n",
    "from Core.Tensor import Tensor\n",
    "from Core.Operation import *\n",
    "from Core.Model import *\n",
    "from Core.Loss import *\n",
    "from Core.Optimizer import *\n",
    "import keras\n",
    "class TwoLayerModel(Model):\n",
    "    def __init__(self):\n",
    "        super().__init__()\n",
    "        self.flatten = Flatten()\n",
    "        self.linear1 = Linear(784, 128)\n",
    "        self.linear2 = Linear(128, 10)\n",
    "        self.relu = Relu()\n",
    "        self.softmax = Softmax(dim=1)\n",
    "        \n",
    "    def forward(self, x):\n",
    "        x = self.flatten(x)\n",
    "        x = self.linear1(x)\n",
    "        x = self.relu(x)\n",
    "        x = self.linear2(x)\n",
    "        x = self.softmax(x)\n",
    "        return x\n",
    "    \n",
    "\n",
    "(x_train, y_train), (x_test, y_test) = keras.datasets.mnist.load_data()\n",
    "\n",
    "\n",
    "# x_train = x_train.reshape(-1, 784)\n",
    "# x_test = x_test.reshape(-1, 784)\n",
    "\n",
    "x_train = x_train / 255.0\n",
    "x_test = x_test / 255.0\n",
    "\n",
    "y_train = keras.utils.to_categorical(y_train)\n",
    "y_test = keras.utils.to_categorical(y_test)\n"
   ]
  },
  {
   "cell_type": "code",
   "execution_count": 2,
   "metadata": {},
   "outputs": [
    {
     "name": "stdout",
     "output_type": "stream",
     "text": [
      "Epoch: 1, Loss: 0.01510, Accuracy: 0.89020\n",
      "Epoch: 2, Loss: 0.01161, Accuracy: 0.90600\n",
      "Epoch: 3, Loss: 0.01010, Accuracy: 0.91600\n",
      "Epoch: 4, Loss: 0.00911, Accuracy: 0.92110\n",
      "Epoch: 5, Loss: 0.00834, Accuracy: 0.92800\n",
      "Epoch: 6, Loss: 0.00772, Accuracy: 0.93340\n",
      "Epoch: 7, Loss: 0.00726, Accuracy: 0.93720\n",
      "Epoch: 8, Loss: 0.00689, Accuracy: 0.94000\n",
      "Epoch: 9, Loss: 0.00658, Accuracy: 0.94350\n",
      "Epoch: 10, Loss: 0.00629, Accuracy: 0.94560\n",
      "Epoch: 11, Loss: 0.00604, Accuracy: 0.94650\n",
      "Epoch: 12, Loss: 0.00582, Accuracy: 0.94920\n",
      "Epoch: 13, Loss: 0.00561, Accuracy: 0.95120\n",
      "Epoch: 14, Loss: 0.00545, Accuracy: 0.95390\n",
      "Epoch: 15, Loss: 0.00531, Accuracy: 0.95470\n",
      "Epoch: 16, Loss: 0.00517, Accuracy: 0.95630\n",
      "Epoch: 17, Loss: 0.00506, Accuracy: 0.95780\n",
      "Epoch: 18, Loss: 0.00496, Accuracy: 0.95910\n",
      "Epoch: 19, Loss: 0.00487, Accuracy: 0.96020\n",
      "Epoch: 20, Loss: 0.00477, Accuracy: 0.96070\n"
     ]
    }
   ],
   "source": [
    "\n",
    "\n",
    "model = TwoLayerModel()\n",
    "loss_fn = MSE()\n",
    "optimizer = SGD(model.get_parameters(), lr=0.001)\n",
    "\n",
    "batch_size = 128\n",
    "epochs = 20\n",
    "\n",
    "for epoch in range(epochs):\n",
    "    for i in range(0, len(x_train), batch_size):\n",
    "        batch_x = x_train[i:i+batch_size]\n",
    "        batch_y = y_train[i:i+batch_size]\n",
    "        batch_x = Tensor(batch_x)\n",
    "        batch_y = Tensor(batch_y)\n",
    "        \n",
    "        output = model(batch_x)\n",
    "        \n",
    "        loss = loss_fn(output, batch_y)\n",
    "        \n",
    "        loss.backward()\n",
    "        \n",
    "        optimizer.step()\n",
    "        optimizer.zero_grad()\n",
    "        \n",
    "    output = model(x_test)\n",
    "    acc = np.sum(np.argmax(output.data, axis=1) == np.argmax(y_test, axis=1)) / len(x_test)\n",
    "    print(\"Epoch: %d, Loss: %.5f, Accuracy: %.5f\" % (epoch+1, loss.data, acc))"
   ]
  }
 ],
 "metadata": {
  "kernelspec": {
   "display_name": "TTS",
   "language": "python",
   "name": "python3"
  },
  "language_info": {
   "codemirror_mode": {
    "name": "ipython",
    "version": 3
   },
   "file_extension": ".py",
   "mimetype": "text/x-python",
   "name": "python",
   "nbconvert_exporter": "python",
   "pygments_lexer": "ipython3",
   "version": "3.9.17"
  }
 },
 "nbformat": 4,
 "nbformat_minor": 2
}
