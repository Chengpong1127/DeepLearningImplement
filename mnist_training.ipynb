{
 "cells": [
  {
   "cell_type": "code",
   "execution_count": 5,
   "metadata": {},
   "outputs": [],
   "source": [
    "\n",
    "from mytorch import Model\n",
    "from mytorch.operations import Flatten\n",
    "from mytorch.activations import ReLU, Softmax\n",
    "from mytorch.layers import Linear, Dropout\n",
    "\n",
    "\n",
    "import keras\n",
    "class TwoLayerModel(Model):\n",
    "    def __init__(self):\n",
    "        super().__init__()\n",
    "        self.flatten = Flatten()\n",
    "        self.linear1 = Linear(784, 128)\n",
    "        self.linear2 = Linear(128, 10)\n",
    "        self.dropout = Dropout(0.3)\n",
    "        self.relu = ReLU()\n",
    "        self.softmax = Softmax(dim=1)\n",
    "        \n",
    "    def forward(self, x):\n",
    "        x = self.flatten(x)\n",
    "        x = self.linear1(x)\n",
    "        x = self.relu(x)\n",
    "        x = self.linear2(x)\n",
    "        x = self.dropout(x)\n",
    "        x = self.softmax(x)\n",
    "        return x\n",
    "    \n",
    "\n",
    "(x_train, y_train), (x_test, y_test) = keras.datasets.mnist.load_data()\n",
    "\n",
    "x_train = x_train / 255.0\n",
    "x_test = x_test / 255.0\n",
    "\n",
    "y_train = keras.utils.to_categorical(y_train)\n",
    "y_test = keras.utils.to_categorical(y_test)\n"
   ]
  },
  {
   "cell_type": "code",
   "execution_count": 6,
   "metadata": {},
   "outputs": [
    {
     "name": "stdout",
     "output_type": "stream",
     "text": [
      "Epoch: 1, Loss: 0.06232, Accuracy: 0.90570\n",
      "Epoch: 2, Loss: 0.07028, Accuracy: 0.91930\n",
      "Epoch: 3, Loss: 0.06384, Accuracy: 0.93030\n",
      "Epoch: 4, Loss: 0.06592, Accuracy: 0.93840\n",
      "Epoch: 5, Loss: 0.06692, Accuracy: 0.94270\n",
      "Epoch: 6, Loss: 0.06216, Accuracy: 0.94540\n",
      "Epoch: 7, Loss: 0.06389, Accuracy: 0.94740\n",
      "Epoch: 8, Loss: 0.06218, Accuracy: 0.95040\n",
      "Epoch: 9, Loss: 0.06157, Accuracy: 0.95310\n",
      "Epoch: 10, Loss: 0.06484, Accuracy: 0.95620\n",
      "Epoch: 11, Loss: 0.06454, Accuracy: 0.95660\n",
      "Epoch: 12, Loss: 0.05964, Accuracy: 0.95820\n",
      "Epoch: 13, Loss: 0.06346, Accuracy: 0.95790\n",
      "Epoch: 14, Loss: 0.06106, Accuracy: 0.95840\n",
      "Epoch: 15, Loss: 0.06693, Accuracy: 0.96070\n",
      "Epoch: 16, Loss: 0.06523, Accuracy: 0.96200\n",
      "Epoch: 17, Loss: 0.06439, Accuracy: 0.96270\n",
      "Epoch: 18, Loss: 0.06469, Accuracy: 0.96350\n",
      "Epoch: 19, Loss: 0.05649, Accuracy: 0.96440\n",
      "Epoch: 20, Loss: 0.06379, Accuracy: 0.96490\n"
     ]
    }
   ],
   "source": [
    "from mytorch.optimizers import SGD\n",
    "from mytorch.losses import MSE\n",
    "from mytorch import Tensor\n",
    "import numpy as np\n",
    "\n",
    "model = TwoLayerModel()\n",
    "loss_fn = MSE()\n",
    "optimizer = SGD(model.get_parameters(), lr=0.001)\n",
    "\n",
    "batch_size = 128\n",
    "epochs = 20\n",
    "\n",
    "for epoch in range(epochs):\n",
    "    model.train()\n",
    "    for i in range(0, len(x_train), batch_size):\n",
    "        batch_x = x_train[i:i+batch_size]\n",
    "        batch_y = y_train[i:i+batch_size]\n",
    "        batch_x = Tensor(batch_x)\n",
    "        batch_y = Tensor(batch_y)\n",
    "        \n",
    "        output = model(batch_x)\n",
    "        \n",
    "        loss = loss_fn(output, batch_y)\n",
    "        \n",
    "        loss.backward()\n",
    "        \n",
    "        optimizer.step()\n",
    "        optimizer.zero_grad()\n",
    "        \n",
    "    model.eval()\n",
    "    output = model(x_test)\n",
    "    acc = np.sum(np.argmax(output.data, axis=1) == np.argmax(y_test, axis=1)) / len(x_test)\n",
    "    print(\"Epoch: %d, Loss: %.5f, Accuracy: %.5f\" % (epoch+1, loss.data, acc))"
   ]
  },
  {
   "cell_type": "code",
   "execution_count": 7,
   "metadata": {},
   "outputs": [],
   "source": [
    "model.save('model.npz')"
   ]
  },
  {
   "cell_type": "code",
   "execution_count": 8,
   "metadata": {},
   "outputs": [
    {
     "name": "stdout",
     "output_type": "stream",
     "text": [
      "Test Accuracy: 0.96490\n"
     ]
    }
   ],
   "source": [
    "model = TwoLayerModel()\n",
    "model.load('model.npz')\n",
    "\n",
    "model.eval()\n",
    "output = model(x_test)\n",
    "acc = np.sum(np.argmax(output.data, axis=1) == np.argmax(y_test, axis=1)) / len(x_test)\n",
    "print(\"Test Accuracy: %.5f\" % (acc))"
   ]
  }
 ],
 "metadata": {
  "kernelspec": {
   "display_name": "TTS",
   "language": "python",
   "name": "python3"
  },
  "language_info": {
   "codemirror_mode": {
    "name": "ipython",
    "version": 3
   },
   "file_extension": ".py",
   "mimetype": "text/x-python",
   "name": "python",
   "nbconvert_exporter": "python",
   "pygments_lexer": "ipython3",
   "version": "3.9.6"
  }
 },
 "nbformat": 4,
 "nbformat_minor": 2
}
